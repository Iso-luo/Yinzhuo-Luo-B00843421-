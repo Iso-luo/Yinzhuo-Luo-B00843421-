{
  "nbformat": 4,
  "nbformat_minor": 0,
  "metadata": {
    "colab": {
      "name": "Untitled5.ipynb",
      "provenance": [],
      "authorship_tag": "ABX9TyOPziTu+Nv0G+5tjEXQIGgQ",
      "include_colab_link": true
    },
    "kernelspec": {
      "name": "python3",
      "display_name": "Python 3"
    }
  },
  "cells": [
    {
      "cell_type": "markdown",
      "metadata": {
        "id": "view-in-github",
        "colab_type": "text"
      },
      "source": [
        "<a href=\"https://colab.research.google.com/github/Iso-luo/Yinzhuo-Luo-B00843421-/blob/children/Untitled5.ipynb\" target=\"_parent\"><img src=\"https://colab.research.google.com/assets/colab-badge.svg\" alt=\"Open In Colab\"/></a>"
      ]
    },
    {
      "cell_type": "code",
      "metadata": {
        "id": "SJS04-N5uyU9",
        "colab_type": "code",
        "colab": {}
      },
      "source": [
        "# change file to list\n",
        "def get_words_list():\n",
        "    l = []\n",
        "    with open(\"/Users/a123/Desktop/words.txt\", \"r\") as f1:\n",
        "        for i in f1:\n",
        "            words = i.strip()\n",
        "            l.append(words)\n",
        "    l.append(\"luoyinzhuo\")\n",
        "    return l\n",
        "\n",
        "\n",
        "# compare two words\n",
        "def is_anagram(s1, s2):\n",
        "    s1 = list(s1)\n",
        "    s1.sort()\n",
        "    s2 = list(s2)\n",
        "    s2.sort()\n",
        "    if s1 == s2:\n",
        "        return True\n",
        "    else:\n",
        "        return False\n",
        "\n",
        "\n",
        "# add keys and values to dictionary\n",
        "def get_all_sets(l):\n",
        "    index = 0\n",
        "    lis = []\n",
        "    d = {}  # an ordinary dictionary\n",
        "    for i in l:\n",
        "        for j in l[l.index(i) + 1:]:\n",
        "            if is_anagram(i, j):\n",
        "                d.setdefault(i, []).append(j)\n",
        "                l.remove(j)\n",
        "    for i in d:\n",
        "        k = [i]\n",
        "        v = list(d[i])\n",
        "        k.extend(v)\n",
        "        lis.append(k)\n",
        "    # sort list\n",
        "    len_list = sorted(lis, key=lambda little_list: len(little_list), reverse=True)\n",
        "    # return len_list\n",
        "    for i in len_list:\n",
        "        print(i)\n",
        "        # return lis\n",
        "\n",
        "\n",
        "r = get_words_list()\n",
        "print(get_all_sets(r))\n"
      ],
      "execution_count": 0,
      "outputs": []
    }
  ]
}