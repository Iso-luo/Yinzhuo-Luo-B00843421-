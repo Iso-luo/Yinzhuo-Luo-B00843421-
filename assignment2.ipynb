{
  "nbformat": 4,
  "nbformat_minor": 0,
  "metadata": {
    "colab": {
      "name": "assignment2.ipynb",
      "provenance": [],
      "collapsed_sections": []
    },
    "kernelspec": {
      "name": "python3",
      "display_name": "Python 3"
    }
  },
  "cells": [
    {
      "cell_type": "code",
      "metadata": {
        "id": "34u57cd7D5IQ",
        "colab_type": "code",
        "colab": {}
      },
      "source": [
        "# print list\n",
        "def solve_list(l):\n",
        "    res = []\n",
        "    for i in l:\n",
        "        if isinstance(i, list):\n",
        "            res.extend(solve_list(i))\n",
        "        else:\n",
        "            res.append(i)\n",
        "    return res\n",
        "\n",
        "print(solve_list([[[1]], [3, [2]], [[4], 5], [6, 7], [8, 9]]))"
      ],
      "execution_count": 0,
      "outputs": []
    },
    {
      "cell_type": "code",
      "metadata": {
        "id": "Bd2axhWCD6eB",
        "colab_type": "code",
        "colab": {}
      },
      "source": [
        "# print tuple\n",
        "def solve_tuple(t):\n",
        "    r = []\n",
        "    if isinstance(t, tuple):\n",
        "        for i in t:\n",
        "            r.extend(solve_tuple(i))\n",
        "    else:\n",
        "        r.append(t)\n",
        "    return r\n",
        "\n",
        "\n",
        "res = (solve_tuple(((1,), (1, (1, 2, 3, (4, 5))))))\n",
        "print(res)"
      ],
      "execution_count": 0,
      "outputs": []
    },
    {
      "cell_type": "code",
      "metadata": {
        "id": "6DEhUjGbBzVN",
        "colab_type": "code",
        "colab": {
          "base_uri": "https://localhost:8080/",
          "height": 34
        },
        "outputId": "311e2cd6-ea63-4e50-dbc6-0dc331d066f9"
      },
      "source": [
        "#print dictionaty\n",
        "def print_dic(dic,a_name):\n",
        "    res = []\n",
        "    for k1, v1 in dic.items():\n",
        "        for k2, v2 in v1.items():\n",
        "            for k3,v3 in v2.items():\n",
        "                res.append(v3[a_name])\n",
        "\n",
        "    return res\n",
        "\n",
        "\n",
        "food_color = {\n",
        "    \"food\": {\n",
        "        \"vegetables\": {\n",
        "            \"color\": {\n",
        "                \"red\": \"tomato\",\n",
        "                \"green\": [\n",
        "                    \"spinach\",\n",
        "                    \"cauliflower\"],\n",
        "                \"purple\": \"eggplant\",\n",
        "                \"white\": \"tofu\"\n",
        "            }\n",
        "        },\n",
        "        \"meats\": {\n",
        "            \"color\": {\n",
        "                \"red\": [\"beef\",\"lamb\"],\n",
        "                \"white\": [ \"fish\", \"chicken\"],\n",
        "                \"purple\":\"octopus\"\n",
        "            }\n",
        "        }\n",
        "    }\n",
        "}\n",
        "\n",
        "print_dic(food_color,\"white\")"
      ],
      "execution_count": 4,
      "outputs": [
        {
          "output_type": "execute_result",
          "data": {
            "text/plain": [
              "['tofu', ['fish', 'chicken']]"
            ]
          },
          "metadata": {
            "tags": []
          },
          "execution_count": 4
        }
      ]
    }
  ]
}